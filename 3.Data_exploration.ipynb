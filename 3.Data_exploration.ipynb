{
 "cells": [
  {
   "cell_type": "markdown",
   "metadata": {},
   "source": [
    "## 3. Data exploration"
   ]
  },
  {
   "cell_type": "markdown",
   "metadata": {},
   "source": [
    "### 1. Prepare de dictionary\n",
    "#### 1. Tokenize"
   ]
  },
  {
   "cell_type": "code",
   "execution_count": 38,
   "metadata": {},
   "outputs": [
    {
     "data": {
      "text/html": [
       "<div>\n",
       "<style scoped>\n",
       "    .dataframe tbody tr th:only-of-type {\n",
       "        vertical-align: middle;\n",
       "    }\n",
       "\n",
       "    .dataframe tbody tr th {\n",
       "        vertical-align: top;\n",
       "    }\n",
       "\n",
       "    .dataframe thead th {\n",
       "        text-align: right;\n",
       "    }\n",
       "</style>\n",
       "<table border=\"1\" class=\"dataframe\">\n",
       "  <thead>\n",
       "    <tr style=\"text-align: right;\">\n",
       "      <th></th>\n",
       "      <th>Band</th>\n",
       "      <th>Song</th>\n",
       "      <th>Lyrics</th>\n",
       "    </tr>\n",
       "  </thead>\n",
       "  <tbody>\n",
       "    <tr>\n",
       "      <th>0</th>\n",
       "      <td>Elijah Blake</td>\n",
       "      <td>Everyday</td>\n",
       "      <td>[no, no, aint, ever, trapped, out, the, bando,...</td>\n",
       "    </tr>\n",
       "    <tr>\n",
       "      <th>1</th>\n",
       "      <td>Elijah Blake</td>\n",
       "      <td>Live Till We Die</td>\n",
       "      <td>[the, drinks, go, down, and, smoke, goes, up, ...</td>\n",
       "    </tr>\n",
       "    <tr>\n",
       "      <th>2</th>\n",
       "      <td>Elijah Blake</td>\n",
       "      <td>The Otherside</td>\n",
       "      <td>[she, dont, live, on, planet, earth, no, more,...</td>\n",
       "    </tr>\n",
       "    <tr>\n",
       "      <th>3</th>\n",
       "      <td>Elijah Blake</td>\n",
       "      <td>Pinot</td>\n",
       "      <td>[trippin, off, that, grigio, mobbin, lights, l...</td>\n",
       "    </tr>\n",
       "    <tr>\n",
       "      <th>4</th>\n",
       "      <td>Elijah Blake</td>\n",
       "      <td>Shadows &amp; Diamonds</td>\n",
       "      <td>[see, midnight, panther, so, gallant, and, so,...</td>\n",
       "    </tr>\n",
       "    <tr>\n",
       "      <th>5</th>\n",
       "      <td>Elijah Blake</td>\n",
       "      <td>Uno</td>\n",
       "      <td>[just, want, to, ready, your, mind, cause, ill...</td>\n",
       "    </tr>\n",
       "    <tr>\n",
       "      <th>6</th>\n",
       "      <td>Elin Lanto</td>\n",
       "      <td>As Long as I Can Dream</td>\n",
       "      <td>[watch, the, leaves, fall, to, the, ground, su...</td>\n",
       "    </tr>\n",
       "    <tr>\n",
       "      <th>7</th>\n",
       "      <td>Elio e le Storie Tese</td>\n",
       "      <td>John Holmes</td>\n",
       "      <td>[when, was, just, boy, everyone, made, fun, of...</td>\n",
       "    </tr>\n",
       "    <tr>\n",
       "      <th>8</th>\n",
       "      <td>Elis</td>\n",
       "      <td>Betrayal</td>\n",
       "      <td>[bonus, track, betrayal, you, betrayed, me, yo...</td>\n",
       "    </tr>\n",
       "    <tr>\n",
       "      <th>9</th>\n",
       "      <td>Elis</td>\n",
       "      <td>Child</td>\n",
       "      <td>[child, is, born, out, of, the, womb, of, moth...</td>\n",
       "    </tr>\n",
       "    <tr>\n",
       "      <th>10</th>\n",
       "      <td>Elis</td>\n",
       "      <td>Come to Me</td>\n",
       "      <td>[out, of, the, darkness, you, came, you, looke...</td>\n",
       "    </tr>\n",
       "    <tr>\n",
       "      <th>11</th>\n",
       "      <td>Elis</td>\n",
       "      <td>Do You Believe</td>\n",
       "      <td>[each, night, lie, in, my, bed, and, think, ab...</td>\n",
       "    </tr>\n",
       "    <tr>\n",
       "      <th>12</th>\n",
       "      <td>Elis</td>\n",
       "      <td>My Only Love</td>\n",
       "      <td>[im, lonely, stranger, in, this, world, of, pa...</td>\n",
       "    </tr>\n",
       "    <tr>\n",
       "      <th>13</th>\n",
       "      <td>Elis</td>\n",
       "      <td>Anger</td>\n",
       "      <td>[come, calm, my, anger, our, love, is, like, p...</td>\n",
       "    </tr>\n",
       "    <tr>\n",
       "      <th>14</th>\n",
       "      <td>Elis</td>\n",
       "      <td>Black Angel</td>\n",
       "      <td>[was, walking, through, the, night, suddenly, ...</td>\n",
       "    </tr>\n",
       "    <tr>\n",
       "      <th>15</th>\n",
       "      <td>Elis</td>\n",
       "      <td>Devil Inside You</td>\n",
       "      <td>[why, cant, hear, you, breath, why, cant, hold...</td>\n",
       "    </tr>\n",
       "    <tr>\n",
       "      <th>16</th>\n",
       "      <td>Elis</td>\n",
       "      <td>Heart in Chains</td>\n",
       "      <td>[your, cold, cold, heart, has, drowned, my, li...</td>\n",
       "    </tr>\n",
       "    <tr>\n",
       "      <th>17</th>\n",
       "      <td>Elis</td>\n",
       "      <td>Lost Soul</td>\n",
       "      <td>[he, took, my, soul, took, my, soul, in, his, ...</td>\n",
       "    </tr>\n",
       "    <tr>\n",
       "      <th>18</th>\n",
       "      <td>Elis</td>\n",
       "      <td>Perfect Love</td>\n",
       "      <td>[peel, off, my, skin, make, me, helpless, tast...</td>\n",
       "    </tr>\n",
       "    <tr>\n",
       "      <th>19</th>\n",
       "      <td>Elis</td>\n",
       "      <td>Rebirth</td>\n",
       "      <td>[the, long, summer, has, gone, the, autumn, le...</td>\n",
       "    </tr>\n",
       "    <tr>\n",
       "      <th>20</th>\n",
       "      <td>Elis</td>\n",
       "      <td>Brothers</td>\n",
       "      <td>[in, night, so, long, ago, we, made, this, ete...</td>\n",
       "    </tr>\n",
       "    <tr>\n",
       "      <th>21</th>\n",
       "      <td>Elis</td>\n",
       "      <td>The Burning</td>\n",
       "      <td>[burn, destroy, die, now, the, time, has, come...</td>\n",
       "    </tr>\n",
       "    <tr>\n",
       "      <th>22</th>\n",
       "      <td>Elis</td>\n",
       "      <td>Forgotten Love</td>\n",
       "      <td>[past, is, haunting, me, fragments, of, memory...</td>\n",
       "    </tr>\n",
       "    <tr>\n",
       "      <th>23</th>\n",
       "      <td>Elis</td>\n",
       "      <td>How Long [Version]</td>\n",
       "      <td>[how, long, how, long, how, long, will, go, on...</td>\n",
       "    </tr>\n",
       "    <tr>\n",
       "      <th>24</th>\n",
       "      <td>Elis</td>\n",
       "      <td>Innocent Hearts</td>\n",
       "      <td>[dont, dare, to, leave, you, cant, make, singl...</td>\n",
       "    </tr>\n",
       "    <tr>\n",
       "      <th>25</th>\n",
       "      <td>Elis</td>\n",
       "      <td>Phoenix from the Ashes</td>\n",
       "      <td>[we, will, rise, from, the, ashes, many, days,...</td>\n",
       "    </tr>\n",
       "    <tr>\n",
       "      <th>26</th>\n",
       "      <td>Elis</td>\n",
       "      <td>Remember the Promise</td>\n",
       "      <td>[like, young, birds, in, the, sky, they, have,...</td>\n",
       "    </tr>\n",
       "    <tr>\n",
       "      <th>27</th>\n",
       "      <td>Elis</td>\n",
       "      <td>Show Me the Way</td>\n",
       "      <td>[it, was, hard, way, to, get, here, but, now, ...</td>\n",
       "    </tr>\n",
       "    <tr>\n",
       "      <th>28</th>\n",
       "      <td>Elis</td>\n",
       "      <td>Salvation [Non-Album Track]</td>\n",
       "      <td>[salvation, please, free, our, body, mind, and...</td>\n",
       "    </tr>\n",
       "    <tr>\n",
       "      <th>29</th>\n",
       "      <td>Elis</td>\n",
       "      <td>These Days Are Gone [Non-Album Track]</td>\n",
       "      <td>[know, im, wrong, my, house, is, not, home, im...</td>\n",
       "    </tr>\n",
       "    <tr>\n",
       "      <th>...</th>\n",
       "      <td>...</td>\n",
       "      <td>...</td>\n",
       "      <td>...</td>\n",
       "    </tr>\n",
       "    <tr>\n",
       "      <th>333636</th>\n",
       "      <td>Demon Hunter</td>\n",
       "      <td>The Wrath of God</td>\n",
       "      <td>[ear, at, the, voice, inside, dig, deeper, tom...</td>\n",
       "    </tr>\n",
       "    <tr>\n",
       "      <th>333637</th>\n",
       "      <td>Demon Hunter</td>\n",
       "      <td>Blood in the Tears</td>\n",
       "      <td>[dont, come, on, quietly, when, you, draw, nea...</td>\n",
       "    </tr>\n",
       "    <tr>\n",
       "      <th>333638</th>\n",
       "      <td>Demon Hunter</td>\n",
       "      <td>Collapsing</td>\n",
       "      <td>[see, the, weight, of, hollow, death, residing...</td>\n",
       "    </tr>\n",
       "    <tr>\n",
       "      <th>333639</th>\n",
       "      <td>Demon Hunter</td>\n",
       "      <td>Descending Upon Us</td>\n",
       "      <td>[this, is, our, call, to, see, these, idols, f...</td>\n",
       "    </tr>\n",
       "    <tr>\n",
       "      <th>333640</th>\n",
       "      <td>Demon Hunter</td>\n",
       "      <td>Feel as Though You Could</td>\n",
       "      <td>[rebellion, oh, cheap, thrills, and, vacant, y...</td>\n",
       "    </tr>\n",
       "    <tr>\n",
       "      <th>333641</th>\n",
       "      <td>Demon Hunter</td>\n",
       "      <td>Lifewar</td>\n",
       "      <td>[born, from, the, fire, clean, crawling, in, t...</td>\n",
       "    </tr>\n",
       "    <tr>\n",
       "      <th>333642</th>\n",
       "      <td>Demon Hunter</td>\n",
       "      <td>Shallow Water</td>\n",
       "      <td>[remember, the, threat, from, which, it, was, ...</td>\n",
       "    </tr>\n",
       "    <tr>\n",
       "      <th>333643</th>\n",
       "      <td>Demon Hunter</td>\n",
       "      <td>This Is the Line</td>\n",
       "      <td>[fire, surround, in, cleansing, repose, lettin...</td>\n",
       "    </tr>\n",
       "    <tr>\n",
       "      <th>333644</th>\n",
       "      <td>Demon Hunter</td>\n",
       "      <td>Tie This Around Your Neck</td>\n",
       "      <td>[this, is, the, age, of, the, dead, the, gener...</td>\n",
       "    </tr>\n",
       "    <tr>\n",
       "      <th>333645</th>\n",
       "      <td>Demon Hunter</td>\n",
       "      <td>World Is a Thorn</td>\n",
       "      <td>[the, gavel, has, fallen, along, with, the, re...</td>\n",
       "    </tr>\n",
       "    <tr>\n",
       "      <th>333646</th>\n",
       "      <td>Demon Hunter</td>\n",
       "      <td>Desire the Pain [*]</td>\n",
       "      <td>[this, is, your, dying, will, forced, to, feed...</td>\n",
       "    </tr>\n",
       "    <tr>\n",
       "      <th>333647</th>\n",
       "      <td>Demon Hunter</td>\n",
       "      <td>Crucifix</td>\n",
       "      <td>[we, will, trample, on, our, children, til, th...</td>\n",
       "    </tr>\n",
       "    <tr>\n",
       "      <th>333648</th>\n",
       "      <td>Demon Hunter</td>\n",
       "      <td>Resistance</td>\n",
       "      <td>[conviction, was, your, shelter, boarded, up, ...</td>\n",
       "    </tr>\n",
       "    <tr>\n",
       "      <th>333649</th>\n",
       "      <td>Demon Hunter</td>\n",
       "      <td>I Am a Stone</td>\n",
       "      <td>[its, hard, to, say, that, im, back, on, strai...</td>\n",
       "    </tr>\n",
       "    <tr>\n",
       "      <th>333650</th>\n",
       "      <td>Demon Hunter</td>\n",
       "      <td>What is Left</td>\n",
       "      <td>[saw, you, from, our, window, let, you, crawl,...</td>\n",
       "    </tr>\n",
       "    <tr>\n",
       "      <th>333651</th>\n",
       "      <td>Demon Hunter</td>\n",
       "      <td>Artificial Light</td>\n",
       "      <td>[go, tell, me, your, misery, give, us, the, an...</td>\n",
       "    </tr>\n",
       "    <tr>\n",
       "      <th>333652</th>\n",
       "      <td>Demon Hunter</td>\n",
       "      <td>Beyond Me</td>\n",
       "      <td>[where, does, your, allegiance, lie, in, faili...</td>\n",
       "    </tr>\n",
       "    <tr>\n",
       "      <th>333653</th>\n",
       "      <td>Demon Hunter</td>\n",
       "      <td>Death</td>\n",
       "      <td>[im, not, your, gateway, im, not, your, prodig...</td>\n",
       "    </tr>\n",
       "    <tr>\n",
       "      <th>333654</th>\n",
       "      <td>Demon Hunter</td>\n",
       "      <td>Gasoline</td>\n",
       "      <td>[thought, about, you, thought, about, the, one...</td>\n",
       "    </tr>\n",
       "    <tr>\n",
       "      <th>333655</th>\n",
       "      <td>Demon Hunter</td>\n",
       "      <td>The Heart of a Graveyard</td>\n",
       "      <td>[everything, in, time, set, your, eyes, upon, ...</td>\n",
       "    </tr>\n",
       "    <tr>\n",
       "      <th>333656</th>\n",
       "      <td>Demon Hunter</td>\n",
       "      <td>Hell Don't Need Me</td>\n",
       "      <td>[don, wanna, close, my, eyes, can, tell, if, a...</td>\n",
       "    </tr>\n",
       "    <tr>\n",
       "      <th>333657</th>\n",
       "      <td>Demon Hunter</td>\n",
       "      <td>I Will Fail You</td>\n",
       "      <td>[these, quiet, words, they, carry, me, away, r...</td>\n",
       "    </tr>\n",
       "    <tr>\n",
       "      <th>333658</th>\n",
       "      <td>Demon Hunter</td>\n",
       "      <td>The Last One Alive</td>\n",
       "      <td>[did, anyone, survive, swear, heard, your, voi...</td>\n",
       "    </tr>\n",
       "    <tr>\n",
       "      <th>333659</th>\n",
       "      <td>Demon Hunter</td>\n",
       "      <td>One Last Song</td>\n",
       "      <td>[there, is, fire, in, me, feel, its, burn, wit...</td>\n",
       "    </tr>\n",
       "    <tr>\n",
       "      <th>333660</th>\n",
       "      <td>Demon Hunter</td>\n",
       "      <td>What I'm Not</td>\n",
       "      <td>[time, is, wearing, down, my, fight, my, deter...</td>\n",
       "    </tr>\n",
       "    <tr>\n",
       "      <th>333661</th>\n",
       "      <td>Demon Hunter</td>\n",
       "      <td>Hell Don't Need Me [Acoustic] [Version]</td>\n",
       "      <td>[don, wanna, close, my, eyes, can, tell, if, a...</td>\n",
       "    </tr>\n",
       "    <tr>\n",
       "      <th>333662</th>\n",
       "      <td>Demon Hunter</td>\n",
       "      <td>I Will Fail You [Acoustic] [Version]</td>\n",
       "      <td>[these, quiet, words, they, carry, me, away, r...</td>\n",
       "    </tr>\n",
       "    <tr>\n",
       "      <th>333663</th>\n",
       "      <td>Demon Hunter</td>\n",
       "      <td>Cold Winter Sun</td>\n",
       "      <td>[in, the, dim, light, of, sacred, heart, see, ...</td>\n",
       "    </tr>\n",
       "    <tr>\n",
       "      <th>333664</th>\n",
       "      <td>Demon Hunter</td>\n",
       "      <td>The End</td>\n",
       "      <td>[gave, my, life, to, see, this, through, laid,...</td>\n",
       "    </tr>\n",
       "    <tr>\n",
       "      <th>333665</th>\n",
       "      <td>Demon Hunter</td>\n",
       "      <td>Slight the Odds</td>\n",
       "      <td>[woke, up, on, the, edge, felt, my, heart, asc...</td>\n",
       "    </tr>\n",
       "  </tbody>\n",
       "</table>\n",
       "<p>333666 rows × 3 columns</p>\n",
       "</div>"
      ],
      "text/plain": [
       "                         Band                                     Song  \\\n",
       "0                Elijah Blake                                 Everyday   \n",
       "1                Elijah Blake                         Live Till We Die   \n",
       "2                Elijah Blake                            The Otherside   \n",
       "3                Elijah Blake                                    Pinot   \n",
       "4                Elijah Blake                       Shadows & Diamonds   \n",
       "5                Elijah Blake                                      Uno   \n",
       "6                  Elin Lanto                   As Long as I Can Dream   \n",
       "7       Elio e le Storie Tese                              John Holmes   \n",
       "8                        Elis                                 Betrayal   \n",
       "9                        Elis                                    Child   \n",
       "10                       Elis                               Come to Me   \n",
       "11                       Elis                           Do You Believe   \n",
       "12                       Elis                             My Only Love   \n",
       "13                       Elis                                    Anger   \n",
       "14                       Elis                              Black Angel   \n",
       "15                       Elis                         Devil Inside You   \n",
       "16                       Elis                          Heart in Chains   \n",
       "17                       Elis                                Lost Soul   \n",
       "18                       Elis                             Perfect Love   \n",
       "19                       Elis                                  Rebirth   \n",
       "20                       Elis                                 Brothers   \n",
       "21                       Elis                              The Burning   \n",
       "22                       Elis                           Forgotten Love   \n",
       "23                       Elis                       How Long [Version]   \n",
       "24                       Elis                          Innocent Hearts   \n",
       "25                       Elis                   Phoenix from the Ashes   \n",
       "26                       Elis                     Remember the Promise   \n",
       "27                       Elis                          Show Me the Way   \n",
       "28                       Elis              Salvation [Non-Album Track]   \n",
       "29                       Elis    These Days Are Gone [Non-Album Track]   \n",
       "...                       ...                                      ...   \n",
       "333636           Demon Hunter                         The Wrath of God   \n",
       "333637           Demon Hunter                       Blood in the Tears   \n",
       "333638           Demon Hunter                               Collapsing   \n",
       "333639           Demon Hunter                       Descending Upon Us   \n",
       "333640           Demon Hunter                 Feel as Though You Could   \n",
       "333641           Demon Hunter                                  Lifewar   \n",
       "333642           Demon Hunter                            Shallow Water   \n",
       "333643           Demon Hunter                         This Is the Line   \n",
       "333644           Demon Hunter                Tie This Around Your Neck   \n",
       "333645           Demon Hunter                         World Is a Thorn   \n",
       "333646           Demon Hunter                      Desire the Pain [*]   \n",
       "333647           Demon Hunter                                 Crucifix   \n",
       "333648           Demon Hunter                               Resistance   \n",
       "333649           Demon Hunter                             I Am a Stone   \n",
       "333650           Demon Hunter                             What is Left   \n",
       "333651           Demon Hunter                         Artificial Light   \n",
       "333652           Demon Hunter                                Beyond Me   \n",
       "333653           Demon Hunter                                    Death   \n",
       "333654           Demon Hunter                                 Gasoline   \n",
       "333655           Demon Hunter                 The Heart of a Graveyard   \n",
       "333656           Demon Hunter                       Hell Don't Need Me   \n",
       "333657           Demon Hunter                          I Will Fail You   \n",
       "333658           Demon Hunter                       The Last One Alive   \n",
       "333659           Demon Hunter                            One Last Song   \n",
       "333660           Demon Hunter                             What I'm Not   \n",
       "333661           Demon Hunter  Hell Don't Need Me [Acoustic] [Version]   \n",
       "333662           Demon Hunter     I Will Fail You [Acoustic] [Version]   \n",
       "333663           Demon Hunter                          Cold Winter Sun   \n",
       "333664           Demon Hunter                                  The End   \n",
       "333665           Demon Hunter                          Slight the Odds   \n",
       "\n",
       "                                                   Lyrics  \n",
       "0       [no, no, aint, ever, trapped, out, the, bando,...  \n",
       "1       [the, drinks, go, down, and, smoke, goes, up, ...  \n",
       "2       [she, dont, live, on, planet, earth, no, more,...  \n",
       "3       [trippin, off, that, grigio, mobbin, lights, l...  \n",
       "4       [see, midnight, panther, so, gallant, and, so,...  \n",
       "5       [just, want, to, ready, your, mind, cause, ill...  \n",
       "6       [watch, the, leaves, fall, to, the, ground, su...  \n",
       "7       [when, was, just, boy, everyone, made, fun, of...  \n",
       "8       [bonus, track, betrayal, you, betrayed, me, yo...  \n",
       "9       [child, is, born, out, of, the, womb, of, moth...  \n",
       "10      [out, of, the, darkness, you, came, you, looke...  \n",
       "11      [each, night, lie, in, my, bed, and, think, ab...  \n",
       "12      [im, lonely, stranger, in, this, world, of, pa...  \n",
       "13      [come, calm, my, anger, our, love, is, like, p...  \n",
       "14      [was, walking, through, the, night, suddenly, ...  \n",
       "15      [why, cant, hear, you, breath, why, cant, hold...  \n",
       "16      [your, cold, cold, heart, has, drowned, my, li...  \n",
       "17      [he, took, my, soul, took, my, soul, in, his, ...  \n",
       "18      [peel, off, my, skin, make, me, helpless, tast...  \n",
       "19      [the, long, summer, has, gone, the, autumn, le...  \n",
       "20      [in, night, so, long, ago, we, made, this, ete...  \n",
       "21      [burn, destroy, die, now, the, time, has, come...  \n",
       "22      [past, is, haunting, me, fragments, of, memory...  \n",
       "23      [how, long, how, long, how, long, will, go, on...  \n",
       "24      [dont, dare, to, leave, you, cant, make, singl...  \n",
       "25      [we, will, rise, from, the, ashes, many, days,...  \n",
       "26      [like, young, birds, in, the, sky, they, have,...  \n",
       "27      [it, was, hard, way, to, get, here, but, now, ...  \n",
       "28      [salvation, please, free, our, body, mind, and...  \n",
       "29      [know, im, wrong, my, house, is, not, home, im...  \n",
       "...                                                   ...  \n",
       "333636  [ear, at, the, voice, inside, dig, deeper, tom...  \n",
       "333637  [dont, come, on, quietly, when, you, draw, nea...  \n",
       "333638  [see, the, weight, of, hollow, death, residing...  \n",
       "333639  [this, is, our, call, to, see, these, idols, f...  \n",
       "333640  [rebellion, oh, cheap, thrills, and, vacant, y...  \n",
       "333641  [born, from, the, fire, clean, crawling, in, t...  \n",
       "333642  [remember, the, threat, from, which, it, was, ...  \n",
       "333643  [fire, surround, in, cleansing, repose, lettin...  \n",
       "333644  [this, is, the, age, of, the, dead, the, gener...  \n",
       "333645  [the, gavel, has, fallen, along, with, the, re...  \n",
       "333646  [this, is, your, dying, will, forced, to, feed...  \n",
       "333647  [we, will, trample, on, our, children, til, th...  \n",
       "333648  [conviction, was, your, shelter, boarded, up, ...  \n",
       "333649  [its, hard, to, say, that, im, back, on, strai...  \n",
       "333650  [saw, you, from, our, window, let, you, crawl,...  \n",
       "333651  [go, tell, me, your, misery, give, us, the, an...  \n",
       "333652  [where, does, your, allegiance, lie, in, faili...  \n",
       "333653  [im, not, your, gateway, im, not, your, prodig...  \n",
       "333654  [thought, about, you, thought, about, the, one...  \n",
       "333655  [everything, in, time, set, your, eyes, upon, ...  \n",
       "333656  [don, wanna, close, my, eyes, can, tell, if, a...  \n",
       "333657  [these, quiet, words, they, carry, me, away, r...  \n",
       "333658  [did, anyone, survive, swear, heard, your, voi...  \n",
       "333659  [there, is, fire, in, me, feel, its, burn, wit...  \n",
       "333660  [time, is, wearing, down, my, fight, my, deter...  \n",
       "333661  [don, wanna, close, my, eyes, can, tell, if, a...  \n",
       "333662  [these, quiet, words, they, carry, me, away, r...  \n",
       "333663  [in, the, dim, light, of, sacred, heart, see, ...  \n",
       "333664  [gave, my, life, to, see, this, through, laid,...  \n",
       "333665  [woke, up, on, the, edge, felt, my, heart, asc...  \n",
       "\n",
       "[333666 rows x 3 columns]"
      ]
     },
     "execution_count": 38,
     "metadata": {},
     "output_type": "execute_result"
    }
   ],
   "source": [
    "import gensim\n",
    "import pandas as pd\n",
    "from gensim.utils import simple_preprocess\n",
    "\n",
    "df = pd.read_csv('../dataset/Lyrics_en_clean.csv')\n",
    "for row in df.itertuples(index=True, name='Pandas'):\n",
    "    lyric = getattr(row, \"Lyrics\")\n",
    "    index = getattr(row, \"Index\")    \n",
    "    df.at[index, 'Lyrics'] = gensim.utils.simple_preprocess(str(lyric), deacc=True)\n",
    "df    "
   ]
  },
  {
   "cell_type": "markdown",
   "metadata": {},
   "source": [
    "#### 2. Create bigrams and trigrams models"
   ]
  },
  {
   "cell_type": "code",
   "execution_count": 39,
   "metadata": {},
   "outputs": [
    {
     "name": "stderr",
     "output_type": "stream",
     "text": [
      "C:\\Users\\jescobedo\\AppData\\Local\\Continuum\\anaconda3\\envs\\ml\\lib\\site-packages\\gensim\\models\\phrases.py:494: UserWarning: For a faster implementation, use the gensim.models.phrases.Phraser class\n",
      "  warnings.warn(\"For a faster implementation, use the gensim.models.phrases.Phraser class\")\n"
     ]
    }
   ],
   "source": [
    "from gensim.models.phrases import Phrases, Phraser\n",
    "\n",
    "lyrics = list()\n",
    "for row in df.itertuples(index=True, name='Pandas'):\n",
    "    lyric = getattr(row, \"Lyrics\")\n",
    "    lyrics.append(lyric)\n",
    "    \n",
    "bi_prhases = Phrases(lyrics, min_count=5, threshold=40)\n",
    "tri_prhases = Phrases(bi_prhases[lyrics], threshold=40)  \n",
    "\n",
    "bigram = Phraser(bi_prhases)\n",
    "trigram = Phraser(tri_prhases)\n",
    "\n"
   ]
  },
  {
   "cell_type": "markdown",
   "metadata": {},
   "source": [
    "#### 3. Remove stop words"
   ]
  },
  {
   "cell_type": "code",
   "execution_count": 40,
   "metadata": {},
   "outputs": [
    {
     "name": "stdout",
     "output_type": "stream",
     "text": [
      "[nltk_data] Downloading package stopwords to\n",
      "[nltk_data]     C:\\Users\\jescobedo\\AppData\\Roaming\\nltk_data...\n",
      "[nltk_data]   Package stopwords is already up-to-date!\n"
     ]
    }
   ],
   "source": [
    "import nltk\n",
    "from nltk.corpus import stopwords\n",
    "\n",
    "nltk.download('stopwords')\n",
    "stop_words = stopwords.words('english')\n",
    "stop_words.extend(['s', 'chorus'])\n",
    "\n",
    "new_lyrics = list()\n",
    "for lyric in lyrics:\n",
    "    new_lyric = list()\n",
    "    for word in lyric:\n",
    "        if(word not in stop_words):\n",
    "            new_lyric.append(word)\n",
    "    new_lyrics.append(new_lyric)\n",
    "    \n",
    "#print(lyrics[0])\n",
    "#print(new_lyrics[0])\n",
    "lyrics = new_lyrics\n",
    "del new_lyrics"
   ]
  },
  {
   "cell_type": "markdown",
   "metadata": {},
   "source": [
    "#### 4. Lemmatize words"
   ]
  },
  {
   "cell_type": "code",
   "execution_count": 41,
   "metadata": {},
   "outputs": [],
   "source": [
    "bigram_lyrics = list()\n",
    "for lyric in lyrics:\n",
    "    bigram_lyrics.append(bigram[lyric])\n",
    "lyrics = bigram_lyrics\n",
    "del bigram_lyrics"
   ]
  },
  {
   "cell_type": "code",
   "execution_count": 43,
   "metadata": {},
   "outputs": [
    {
     "name": "stdout",
     "output_type": "stream",
     "text": [
      "[['be', 'not', 'ever', 'trap', 'bando', 'lord', 'do', 'not', 'get', 'wrong', 'know', 'couple', 'niggas', 'be', 'place', 'everybody', 'know', 'name', 'say', 'get', 'watch', 'attitude', 'see', 'money', 'man', 'start', 'actin', 'strange', 'fuck', 'fuck', 'never', 'say', 'be', 'brand_new', 'everyday', 'everyday', 'everyday', 'everyday', 'everyday', 'everyday', 'everyday', 'everyday', 'everyday', 'have', 'talkin', 'shit', 'nigga', 's', 'regular', 'have', 'love', 'thick', 'life', 'spectacular', 'spend', 'be', 'die', 'rich', 'nigga', 'be', 'flexin', 'everyday', 'everyday', 'everyday', 'everyday', 'everyday', 'everyday', 'see', 'wanna', 'hot', 'singer', 'swear', 'sound', 'start', 'bottom', 'far', 'motto', 'niggasll', 'never', 'drake', 'shout', 'ovo', 'prolly', 'do', 'not', 'know', 'stay', 'cut', 'do', 'not', 'fuck', 'body', 'that', 's', 'pun', 'nobody', 'know', 'name', 'runnin', 'dream', 'be', 'not', 'hard', 'break', 'bread', 'swear', 'pull', 'plate', 'eat', 'starve', 'be', 'winnin', 'crew', 'can', 'not', 'lose', 'everyday', 'everyday', 'everyday', 'everyday', 'everyday', 'everyday', 'everyday', 'everyday', 'everyday', 'have', 'talkin', 'shit', 'nigga', 's', 'regular', 'have', 'love', 'thick', 'life', 'spectacular', 'spend', 'be', 'die', 'rich', 'nigga', 'be', 'flexin', 'everyday', 'everyday', 'everyday', 'everyday', 'everyday', 'everyday', 'hear', 'get', 'money', 'change', 'be', 'actin', 'funny', 'that', 's', 'get', 'lonely', 'love', 'change', 'hobby', 'dress', 'be', 'not', 'get', 'nobody', 'everyday', 'everyday', 'everyday', 'everyday', 'everyday', 'everyday', 'everyday', 'everyday', 'everyday', 'have', 'talkin', 'shit', 'nigga', 's', 'regular', 'have', 'love', 'thick', 'life', 'spectacular', 'spend', 'be', 'die', 'rich', 'nigga', 'be', 'flexin', 'everyday', 'everyday', 'everyday', 'everyday', 'everyday', 'everyday']]\n"
     ]
    }
   ],
   "source": [
    "import spacy\n",
    "import en_core_web_sm\n",
    "\n",
    "# python -m spacy download en\n",
    "nlp = en_core_web_sm.load(disable=['parser', 'ner'])\n",
    "\n",
    "allowed_postags=['NOUN', 'ADJ', 'VERB', 'ADV']\n",
    "lemma_lyrics = list()\n",
    "for lyric in lyrics:\n",
    "    doc = nlp(\" \".join(lyric)) \n",
    "    lemma_lyric = list()\n",
    "    for token in doc:\n",
    "        if(token.pos_ in allowed_postags):\n",
    "            lemma_lyric.append(token.lemma_)\n",
    "    lemma_lyrics.append(lemma_lyric)\n",
    "\n",
    "\n",
    "print(lemma_lyrics[:1])\n",
    "lyrics = lemma_lyrics"
   ]
  },
  {
   "cell_type": "code",
   "execution_count": 46,
   "metadata": {},
   "outputs": [],
   "source": [
    "import pickle\n",
    "\n",
    "#SAVE LYRICS to disk\n",
    "with open('../dataset/lemma_lyrics', 'wb') as fp:\n",
    "    pickle.dump(lemma_lyrics, fp)\n",
    "del lemma_lyrics"
   ]
  },
  {
   "cell_type": "markdown",
   "metadata": {},
   "source": [
    "Most common words"
   ]
  },
  {
   "cell_type": "code",
   "execution_count": 47,
   "metadata": {},
   "outputs": [],
   "source": [
    "from collections import Counter\n",
    "\n",
    "words = list()\n",
    "for lyric in lyrics:\n",
    "    for word in lyric:\n",
    "        words.append(word)\n",
    "\n",
    "word_freq = Counter(words)"
   ]
  },
  {
   "cell_type": "code",
   "execution_count": 48,
   "metadata": {},
   "outputs": [
    {
     "data": {
      "text/plain": [
       "<matplotlib.axes._subplots.AxesSubplot at 0x1eef11633c8>"
      ]
     },
     "execution_count": 48,
     "metadata": {},
     "output_type": "execute_result"
    },
    {
     "data": {
      "image/png": "[encoded data removed]",
      "text/plain": [
       "<Figure size 432x288 with 1 Axes>"
      ]
     },
     "metadata": {
      "needs_background": "light"
     },
     "output_type": "display_data"
    }
   ],
   "source": [
    "import pandas as pd\n",
    "%matplotlib inline\n",
    "\n",
    "df = pd.DataFrame.from_dict(word_freq.most_common(20))\n",
    "df.plot(x=0, kind ='bar')"
   ]
  },
  {
   "cell_type": "markdown",
   "metadata": {},
   "source": [
    "#### 5. Create corpus"
   ]
  },
  {
   "cell_type": "code",
   "execution_count": 49,
   "metadata": {},
   "outputs": [
    {
     "name": "stdout",
     "output_type": "stream",
     "text": [
      "[(0, 2), (1, 1), (2, 1), (3, 13), (4, 1), (5, 1), (6, 1), (7, 1), (8, 1), (9, 1), (10, 2), (11, 1), (12, 1), (13, 1), (14, 3), (15, 3), (16, 1), (17, 1), (18, 1), (19, 1), (20, 1), (21, 1), (22, 45), (23, 1), (24, 3), (25, 3), (26, 1), (27, 5), (28, 1), (29, 6), (30, 1), (31, 1), (32, 1), (33, 4), (34, 3), (35, 1), (36, 1), (37, 1), (38, 4), (39, 1), (40, 2), (41, 1), (42, 2), (43, 2), (44, 6), (45, 1), (46, 1), (47, 2), (48, 7), (49, 1), (50, 1), (51, 1), (52, 1), (53, 1), (54, 1), (55, 3), (56, 3), (57, 1), (58, 5), (59, 2), (60, 2), (61, 3), (62, 1), (63, 1), (64, 1), (65, 3), (66, 3), (67, 2), (68, 1), (69, 1), (70, 1), (71, 2), (72, 3), (73, 2), (74, 3), (75, 1), (76, 1), (77, 1), (78, 1), (79, 1)]\n",
      "[(0, 0.05693230226707338), (1, 0.027704914478609205), (2, 0.04549673720943144), (3, 0.0289448229988323), (4, 0.015806998693867935), (5, 0.024025594355196165), (6, 0.023098009819700793), (7, 0.025811526273479265), (8, 0.010569261638354028), (9, 0.006612118130594775), (10, 0.024434477822771413), (11, 0.023239054344131573), (12, 0.023722253815393342), (13, 0.01746168238834378), (14, 0.03560056560150568), (15, 0.011175632466044262), (16, 0.041336779512986775), (17, 0.009684581016985033), (18, 0.0196937108111364), (19, 0.01863926550962034), (20, 0.0104411446409335), (21, 0.015887644537269954), (22, 0.9396869092284773), (23, 0.013589339666032917), (24, 0.1196295668814131), (25, 0.0460039955943677), (26, 0.02065652711263163), (27, 0.018940556086540477), (28, 0.01183726099719727), (29, 0.03533833104995298), (30, 0.009053608324670726), (31, 0.038302865707757615), (32, 0.01707644348539919), (33, 0.01370690679068628), (34, 0.02326870491647565), (35, 0.015390626768264403), (36, 0.016202881585968113), (37, 0.01037971421230309), (38, 0.016704079898947965), (39, 0.008771906754754038), (40, 0.029158288079345823), (41, 0.036948967242739675), (42, 0.025429595408602717), (43, 0.012316686718366264), (44, 0.10577675169825852), (45, 0.01914790751556941), (46, 0.04185410282357955), (47, 0.03278591441456118), (48, 0.014513661570347204), (49, 0.051946087517519654), (50, 0.011759345121925073), (51, 0.02760764927409373), (52, 0.03834916742194089), (53, 0.01617579192795459), (54, 0.04060944616378216), (55, 0.10119874676478062), (56, 0.06207826862031278), (57, 0.021805178747774333), (58, 0.025182746157760626), (59, 0.010303784791465263), (60, 0.009696437119073375), (61, 0.04705135768423608), (62, 0.021500696602689894), (63, 0.030797539868036173), (64, 0.01482457817346039), (65, 0.12668890417802453), (66, 0.05008447692209673), (67, 0.022994154101569197), (68, 0.03033245410856555), (69, 0.011583291476367153), (70, 0.018765383340852065), (71, 0.039384749934122054), (72, 0.06628042421042103), (73, 0.021153362352086712), (74, 0.07831232337281911), (75, 0.023552487971946628), (76, 0.012776946014695416), (77, 0.012764600383873111), (78, 0.03703880208951916), (79, 0.012915065105224102)]\n"
     ]
    }
   ],
   "source": [
    "import gensim.corpora as corpora\n",
    "from gensim.models import TfidfModel\n",
    "\n",
    "id2word = corpora.Dictionary(lyrics)\n",
    "id2word.save(\"../dataset/lemma_lyrics_dict\")\n",
    "\n",
    "bow_corpus = list()\n",
    "\n",
    "for lyric in lyrics:\n",
    "    bow_corpus.append(id2word.doc2bow(lyric))\n",
    "\n",
    "tfidf = TfidfModel(bow_corpus)\n",
    "tfidf_corpus = tfidf[bow_corpus]\n",
    "print(bow_corpus[0])\n",
    "print(tfidf_corpus[0])"
   ]
  },
  {
   "cell_type": "markdown",
   "metadata": {},
   "source": [
    "#### 6. Word2Vec"
   ]
  },
  {
   "cell_type": "code",
   "execution_count": 50,
   "metadata": {},
   "outputs": [],
   "source": [
    "from gensim.models.word2vec import Word2Vec\n",
    "\n",
    "word2vec = Word2Vec(lyrics, workers=4, iter=3)\n",
    "word_vectors = word2vec.wv\n",
    "word2vec.save(\"../dataset/word2vec\")"
   ]
  },
  {
   "cell_type": "code",
   "execution_count": 51,
   "metadata": {},
   "outputs": [
    {
     "data": {
      "text/plain": [
       "[('loving', 0.7323824763298035),\n",
       " ('baby', 0.6846239566802979),\n",
       " ('true', 0.6691523790359497),\n",
       " ('know', 0.668067216873169),\n",
       " ('darling', 0.6394789218902588),\n",
       " ('want', 0.6322681307792664),\n",
       " ('darlin', 0.6292194128036499),\n",
       " ('unconditional', 0.6217715740203857),\n",
       " ('give', 0.6116681694984436),\n",
       " ('babe', 0.6101255416870117)]"
      ]
     },
     "execution_count": 51,
     "metadata": {},
     "output_type": "execute_result"
    }
   ],
   "source": [
    "word_vectors.similar_by_word(\"love\")"
   ]
  },
  {
   "cell_type": "code",
   "execution_count": 52,
   "metadata": {},
   "outputs": [
    {
     "data": {
      "text/plain": [
       "[('jealousy', 0.5900207757949829),\n",
       " ('envy', 0.5282406806945801),\n",
       " ('complicate', 0.5153257846832275),\n",
       " ('suffer', 0.5131679773330688),\n",
       " ('hater', 0.4938468337059021),\n",
       " ('disgust', 0.49337294697761536),\n",
       " ('anger', 0.49008268117904663),\n",
       " ('because', 0.48505645990371704),\n",
       " ('relate', 0.4771983325481415),\n",
       " ('worst_enemy', 0.47578877210617065)]"
      ]
     },
     "execution_count": 52,
     "metadata": {},
     "output_type": "execute_result"
    }
   ],
   "source": [
    "word_vectors.similar_by_word(\"hate\")"
   ]
  },
  {
   "cell_type": "code",
   "execution_count": 53,
   "metadata": {},
   "outputs": [
    {
     "data": {
      "text/plain": [
       "[('bless', 0.6710283756256104),\n",
       " ('almighty', 0.6522773504257202),\n",
       " ('mercy', 0.6190482378005981),\n",
       " ('lord', 0.6134485006332397),\n",
       " ('savior', 0.596627414226532),\n",
       " ('blessed', 0.5921716094017029),\n",
       " ('redeemer', 0.5857529640197754),\n",
       " ('righteousness', 0.5798813104629517),\n",
       " ('father', 0.57902991771698),\n",
       " ('righteous', 0.5758235454559326)]"
      ]
     },
     "execution_count": 53,
     "metadata": {},
     "output_type": "execute_result"
    }
   ],
   "source": [
    "word_vectors.similar_by_word(\"god\")"
   ]
  },
  {
   "cell_type": "code",
   "execution_count": 54,
   "metadata": {},
   "outputs": [
    {
     "data": {
      "text/plain": [
       "[('bark', 0.6879298686981201),\n",
       " ('cat', 0.6528154611587524),\n",
       " ('leash', 0.6073524355888367),\n",
       " ('hog', 0.5716254711151123),\n",
       " ('dog_diggie', 0.5571916103363037),\n",
       " ('woof', 0.5513795614242554),\n",
       " ('buying_chihuahua', 0.5272702574729919),\n",
       " ('doggy', 0.5204506516456604),\n",
       " ('bark_bark', 0.5008241534233093),\n",
       " ('diggie_diggie', 0.4973498582839966)]"
      ]
     },
     "execution_count": 54,
     "metadata": {},
     "output_type": "execute_result"
    }
   ],
   "source": [
    "word_vectors.similar_by_word(\"dog\")"
   ]
  },
  {
   "cell_type": "markdown",
   "metadata": {},
   "source": [
    "### 7. Doc2Vec"
   ]
  },
  {
   "cell_type": "code",
   "execution_count": 55,
   "metadata": {},
   "outputs": [],
   "source": [
    "from gensim.models.doc2vec import Doc2Vec, TaggedDocument\n",
    "\n",
    "tagged_lyrics = [TaggedDocument(lyric, [i]) for i, lyric in enumerate(lyrics)]\n",
    "\n",
    "doc2vec = Doc2Vec(tagged_lyrics, workers=4, epochs=3)\n",
    "doc_vectors = doc2vec.wv\n",
    "\n",
    "doc2vec.save(\"../dataset/doc2vec\")"
   ]
  },
  {
   "cell_type": "code",
   "execution_count": 56,
   "metadata": {},
   "outputs": [
    {
     "data": {
      "text/plain": [
       "[('baby', 0.7741656303405762),\n",
       " ('know', 0.7731038331985474),\n",
       " ('want', 0.7322003245353699),\n",
       " ('give', 0.7283698916435242),\n",
       " ('true', 0.7211328744888306),\n",
       " ('never', 0.7093902826309204),\n",
       " ('heart', 0.7080841064453125),\n",
       " ('ever', 0.7054758071899414),\n",
       " ('loving', 0.7040247917175293),\n",
       " ('enough', 0.6937674283981323)]"
      ]
     },
     "execution_count": 56,
     "metadata": {},
     "output_type": "execute_result"
    }
   ],
   "source": [
    "doc_vectors.similar_by_word(\"love\")"
   ]
  },
  {
   "cell_type": "code",
   "execution_count": 57,
   "metadata": {},
   "outputs": [
    {
     "data": {
      "text/plain": [
       "[('jealousy', 0.5753298997879028),\n",
       " ('suffer', 0.5504946708679199),\n",
       " ('anger', 0.546317458152771),\n",
       " ('hurt', 0.545412540435791),\n",
       " ('hater', 0.5356835126876831),\n",
       " ('fuck', 0.5284494161605835),\n",
       " ('trust', 0.5213353633880615),\n",
       " ('love', 0.5191253423690796),\n",
       " ('want', 0.5155864953994751),\n",
       " ('really', 0.5144102573394775)]"
      ]
     },
     "execution_count": 57,
     "metadata": {},
     "output_type": "execute_result"
    }
   ],
   "source": [
    "doc_vectors.similar_by_word(\"hate\")"
   ]
  },
  {
   "cell_type": "code",
   "execution_count": 58,
   "metadata": {},
   "outputs": [
    {
     "data": {
      "text/plain": [
       "[('lord', 0.6746373176574707),\n",
       " ('bless', 0.6299853920936584),\n",
       " ('mercy', 0.6077107191085815),\n",
       " ('earth', 0.5897377729415894),\n",
       " ('pray', 0.5892517566680908),\n",
       " ('holy', 0.5853118300437927),\n",
       " ('grace', 0.5777762532234192),\n",
       " ('father', 0.5721375942230225),\n",
       " ('praise', 0.5707368850708008),\n",
       " ('savior', 0.5624905824661255)]"
      ]
     },
     "execution_count": 58,
     "metadata": {},
     "output_type": "execute_result"
    }
   ],
   "source": [
    "doc_vectors.similar_by_word(\"god\")"
   ]
  },
  {
   "cell_type": "code",
   "execution_count": 59,
   "metadata": {},
   "outputs": [
    {
     "data": {
      "text/plain": [
       "[('cat', 0.7068536281585693),\n",
       " ('bark', 0.6419731378555298),\n",
       " ('wolf', 0.5549842119216919),\n",
       " ('pavlovs', 0.5493366122245789),\n",
       " ('bite', 0.527361273765564),\n",
       " ('hog', 0.506736695766449),\n",
       " ('leash', 0.5025930404663086),\n",
       " ('diggie_diggie', 0.4981194734573364),\n",
       " ('dog_diggie', 0.476357102394104),\n",
       " ('bone', 0.4745815694332123)]"
      ]
     },
     "execution_count": 59,
     "metadata": {},
     "output_type": "execute_result"
    }
   ],
   "source": [
    "doc_vectors.similar_by_word(\"dog\")"
   ]
  }
 ],
 "metadata": {
  "kernelspec": {
   "display_name": "Python 3",
   "language": "python",
   "name": "python3"
  },
  "language_info": {
   "codemirror_mode": {
    "name": "ipython",
    "version": 3
   },
   "file_extension": ".py",
   "mimetype": "text/x-python",
   "name": "python",
   "nbconvert_exporter": "python",
   "pygments_lexer": "ipython3",
   "version": "3.6.7"
  }
 },
 "nbformat": 4,
 "nbformat_minor": 2
}
