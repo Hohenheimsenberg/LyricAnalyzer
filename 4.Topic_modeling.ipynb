{
 "cells": [
  {
   "cell_type": "markdown",
   "metadata": {},
   "source": [
    "## 4. Topic Modeling\n",
    "### 1. Latent Dirichlet Allocation\n",
    "#### 1. Create the model"
   ]
  },
  {
   "cell_type": "code",
   "execution_count": null,
   "metadata": {},
   "outputs": [],
   "source": [
    "import pickle\n",
    "\n",
    "#LOAD LYRICS from disk\n",
    "lyrics = list()\n",
    "with open ('../dataset/lemma_lyrics', 'rb') as fp:\n",
    "    lyrics = pickle.load(fp)"
   ]
  },
  {
   "cell_type": "code",
   "execution_count": null,
   "metadata": {},
   "outputs": [],
   "source": [
    "import gensim.corpora as corpora\n",
    "from gensim.models import TfidfModel    \n",
    "\n",
    "id2word = corpora.Dictionary(lyrics)\n",
    "id2word.save(\"../dataset/lemma_lyrics_dict\")\n",
    "\n",
    "bow_corpus = list()\n",
    "\n",
    "for lyric in lyrics:\n",
    "    bow_corpus.append(id2word.doc2bow(lyric))\n",
    "\n",
    "tfidf = TfidfModel(bow_corpus)\n",
    "tfidf_corpus = tfidf[bow_corpus]\n",
    "print(bow_corpus[0])\n",
    "print(tfidf_corpus[0])"
   ]
  },
  {
   "cell_type": "code",
   "execution_count": null,
   "metadata": {},
   "outputs": [],
   "source": [
    "from gensim.models.ldamulticore import LdaMulticore\n",
    "\n",
    "lda_model = LdaMulticore(workers=4,\n",
    "                   corpus=bow_corpus,\n",
    "                   id2word=id2word,\n",
    "                   num_topics=6, \n",
    "                   #random_state=100,\n",
    "                   #update_every=1,\n",
    "                   #chunksize=100,\n",
    "                   #passes=10,\n",
    "                   per_word_topics=False)\n",
    "lda_model.save(\"../dataset/bow_lda/lda\")"
   ]
  },
  {
   "cell_type": "markdown",
   "metadata": {},
   "source": [
    "#### 2. Measure the model"
   ]
  },
  {
   "cell_type": "code",
   "execution_count": null,
   "metadata": {},
   "outputs": [],
   "source": [
    "from gensim.models.coherencemodel import CoherenceModel\n",
    "coherence_model_lda = CoherenceModel(model=lda_model, texts=lyrics, dictionary=id2word, coherence='c_v')\n",
    "coherence_lda = coherence_model_lda.get_coherence()\n",
    "print('\\nCoherence Score: ', coherence_lda)"
   ]
  },
  {
   "cell_type": "markdown",
   "metadata": {},
   "source": [
    "#### 3. Plot the model"
   ]
  },
  {
   "cell_type": "code",
   "execution_count": null,
   "metadata": {},
   "outputs": [],
   "source": [
    "import pyLDAvis\n",
    "import pyLDAvis.gensim  \n",
    "\n",
    "pyLDAvis.enable_notebook()\n",
    "vis = pyLDAvis.gensim.prepare(lda_model, bow_corpus, id2word)\n",
    "vis"
   ]
  },
  {
   "cell_type": "markdown",
   "metadata": {},
   "source": [
    "#### 4. One more time, except this time use tfidf corpus"
   ]
  },
  {
   "cell_type": "code",
   "execution_count": null,
   "metadata": {},
   "outputs": [],
   "source": [
    "from gensim.models.ldamulticore import LdaMulticore\n",
    "from gensim.models.coherencemodel import CoherenceModel\n",
    "import warnings\n",
    "\n",
    "warnings.filterwarnings(\"ignore\")\n",
    "\n",
    "best_coherence = 0.0\n",
    "best_number_topics = 0\n",
    "for i in range(2,30,4):\n",
    "    lda_model = LdaMulticore(workers=4,\n",
    "                       corpus=tfidf_corpus,\n",
    "                       id2word=id2word,\n",
    "                       num_topics=5, \n",
    "                       #random_state=100,\n",
    "                       #update_every=1,\n",
    "                       #chunksize=100,\n",
    "                       #passes=10,\n",
    "                       per_word_topics=False)\n",
    "\n",
    "    coherence_model_lda = CoherenceModel(model=lda_model, texts=lyrics, dictionary=id2word, coherence='c_v')\n",
    "    coherence_lda = coherence_model_lda.get_coherence()\n",
    "    print('Coherence Score: '+ str(coherence_lda) + 'Topics: '+str(i))\n",
    "    \n",
    "    if(coherence_lda > best_coherence):\n",
    "        best_coherence = coherence_lda\n",
    "        best_number_topics = i\n",
    "        lda_model.save(\"../dataset/tfidf_lda/lda\")\n",
    "        \n",
    "print(\"Biggest coherence score: \"+str(best_coherence)+\" Number of topics: \"+str(best_number_topics))"
   ]
  },
  {
   "cell_type": "code",
   "execution_count": null,
   "metadata": {},
   "outputs": [],
   "source": [
    "import pyLDAvis\n",
    "import pyLDAvis.gensim  \n",
    "\n",
    "lda_model = LdaMulticore.load(\"../dataset/tfidf_lda/lda\")\n",
    "\n",
    "pyLDAvis.enable_notebook()\n",
    "vis = pyLDAvis.gensim.prepare(lda_model, tfidf_corpus, id2word)\n",
    "vis"
   ]
  },
  {
   "cell_type": "markdown",
   "metadata": {},
   "source": [
    "### 2. Hierarchical Dirichlet Process\n",
    "#### 1. Create the model"
   ]
  },
  {
   "cell_type": "code",
   "execution_count": null,
   "metadata": {},
   "outputs": [],
   "source": [
    "from gensim.models import HdpModel\n",
    "\n",
    "hdp = HdpModel(tfidf_corpus, id2word)\n",
    "hdp.save(\"../dataset/hdp/hdp\")"
   ]
  },
  {
   "cell_type": "code",
   "execution_count": null,
   "metadata": {},
   "outputs": [],
   "source": [
    "from gensim.models import HdpModel\n",
    "hdp = HdpModel.load(\"../dataset/hdp/hdp\")\n",
    "lda_model = hdp.suggested_lda_model()\n",
    "lda_model.save(\"../dataset/hdp_lda/lda\")"
   ]
  },
  {
   "cell_type": "code",
   "execution_count": null,
   "metadata": {},
   "outputs": [],
   "source": [
    "topics = []\n",
    "for topic_id, topic in hdp.show_topics(num_topics=6, formatted=False):\n",
    "    topic = [word for word, _ in topic]\n",
    "    topics.append(topic)\n",
    "print(topics)"
   ]
  },
  {
   "cell_type": "code",
   "execution_count": null,
   "metadata": {},
   "outputs": [],
   "source": [
    "from gensim.models.coherencemodel import CoherenceModel\n",
    "cm = CoherenceModel(texts=lyrics, topics=topics, dictionary=id2word, coherence='c_v')\n",
    "cm.get_coherence()"
   ]
  }
 ],
 "metadata": {
  "kernelspec": {
   "display_name": "Python 3",
   "language": "python",
   "name": "python3"
  },
  "language_info": {
   "codemirror_mode": {
    "name": "ipython",
    "version": 3
   },
   "file_extension": ".py",
   "mimetype": "text/x-python",
   "name": "python",
   "nbconvert_exporter": "python",
   "pygments_lexer": "ipython3",
   "version": "3.6.6"
  }
 },
 "nbformat": 4,
 "nbformat_minor": 2
}
