{
 "cells": [
  {
   "cell_type": "markdown",
   "metadata": {},
   "source": [
    "## 5. Clustering\n",
    "### 1. K-means\n",
    "#### 1. Create the model"
   ]
  },
  {
   "cell_type": "code",
   "execution_count": 1,
   "metadata": {},
   "outputs": [
    {
     "name": "stderr",
     "output_type": "stream",
     "text": [
      "C:\\Users\\juanp\\Anaconda3\\envs\\mlnd\\lib\\site-packages\\gensim\\utils.py:1197: UserWarning: detected Windows; aliasing chunkize to chunkize_serial\n",
      "  warnings.warn(\"detected Windows; aliasing chunkize to chunkize_serial\")\n"
     ]
    },
    {
     "name": "stdout",
     "output_type": "stream",
     "text": [
      "['be', 'not', 'ever', 'trap', 'bando', 'lord', 'do', 'not', 'get', 'wrong', 'know', 'couple', 'niggas', 'be', 'place', 'everybody', 'know', 'name', 'say', 'get', 'watch', 'attitude', 'see', 'money', 'man', 'start', 'actin', 'strange', 'fuck', 'one', 'fuck', 'never', 'say', 'be', 'brand_new', 'everyday', 'everyday', 'everyday', 'everyday', 'everyday', 'everyday', 'everyday', 'everyday', 'everyday', 'have', 'talkin', 'shit', 'nigga', 's', 'regular', 'have', 'love', 'thick', 'life', 'spectacular', 'spend', 'be', 'die', 'rich', 'nigga', 'be', 'flexin', 'everyday', 's', 'everyday', 's', 'everyday', 's', 'everyday', 's', 'everyday', 'everyday', 'see', 'wanna', 'hot', 'singer', 'swear', 'sound', 'start', 'bottom', 'far', 'motto', 'niggasll', 'never', 'drake', 'shout', 'ovo', 'prolly', 'do', 'not', 'know', 'stay', 'cut', 'do', 'not', 'fuck', 'body', 'that', 's', 'pun', 'nobody', 'know', 'name', 'runnin', 'dream', 'be', 'not', 'hard', 'break', 'bread', 'swear', 'pull', 'plate', 'eat', 'one', 'starve', 'be', 'winnin', 'crew', 'can', 'not', 'lose', 'everyday', 'everyday', 'everyday', 'everyday', 'everyday', 'everyday', 'everyday', 'everyday', 'everyday', 'have', 'talkin', 'shit', 'nigga', 's', 'regular', 'have', 'love', 'thick', 'life', 'spectacular', 'spend', 'be', 'die', 'rich', 'nigga', 'be', 'flexin', 'everyday', 's', 'everyday', 's', 'everyday', 's', 'everyday', 's', 'everyday', 'everyday', 'hear', 'get', 'money', 'change', 'be', 'actin', 'funny', 'that', 's', 'get', 'lonely', 'love', 'change', 'hobby', 'dress', 'be', 'not', 'get', 'nobody', 'everyday', 'everyday', 'everyday', 'everyday', 'everyday', 'everyday', 'everyday', 'everyday', 'everyday', 'have', 'talkin', 'shit', 'nigga', 's', 'regular', 'have', 'love', 'thick', 'life', 'spectacular', 'spend', 'be', 'die', 'rich', 'nigga', 'be', 'flexin', 'everyday', 's', 'everyday', 's', 'everyday', 's', 'everyday', 's', 'everyday', 'everyday']\n",
      "be not ever trap bando lord do not get wrong know couple niggas be place everybody know name say get watch attitude see money man start actin strange fuck one fuck never say be brand_new everyday everyday everyday everyday everyday everyday everyday everyday everyday have talkin shit nigga s regular have love thick life spectacular spend be die rich nigga be flexin everyday s everyday s everyday s everyday s everyday everyday see wanna hot singer swear sound start bottom far motto niggasll never drake shout ovo prolly do not know stay cut do not fuck body that s pun nobody know name runnin dream be not hard break bread swear pull plate eat one starve be winnin crew can not lose everyday everyday everyday everyday everyday everyday everyday everyday everyday have talkin shit nigga s regular have love thick life spectacular spend be die rich nigga be flexin everyday s everyday s everyday s everyday s everyday everyday hear get money change be actin funny that s get lonely love change hobby dress be not get nobody everyday everyday everyday everyday everyday everyday everyday everyday everyday have talkin shit nigga s regular have love thick life spectacular spend be die rich nigga be flexin everyday s everyday s everyday s everyday s everyday everyday\n"
     ]
    }
   ],
   "source": [
    "import pickle\n",
    "import gensim.corpora as corpora\n",
    "from gensim.models import TfidfModel\n",
    "\n",
    "#LOAD LYRICS from disk\n",
    "lyrics = list()\n",
    "with open ('../dataset/lemma_lyrics', 'rb') as fp:\n",
    "    lyrics = pickle.load(fp)\n",
    "\n",
    "new_lyrics = list()\n",
    "for lyric in lyrics:\n",
    "    new_lyrics.append(' '.join(lyric))\n",
    "    \n",
    "print(lyrics[0])\n",
    "print(new_lyrics[0])\n",
    "\n",
    "lyrics = new_lyrics\n",
    "del new_lyrics"
   ]
  },
  {
   "cell_type": "code",
   "execution_count": 2,
   "metadata": {},
   "outputs": [],
   "source": [
    "from sklearn.feature_extraction.text import TfidfVectorizer\n",
    "\n",
    "vectorizer = TfidfVectorizer(stop_words='english')\n",
    "data = vectorizer.fit_transform(lyrics)\n",
    "del lyrics"
   ]
  },
  {
   "cell_type": "code",
   "execution_count": 3,
   "metadata": {},
   "outputs": [
    {
     "name": "stdout",
     "output_type": "stream",
     "text": [
      "Top terms per cluster:\n",
      "Cluster 0:\n",
      " baby\n",
      " love\n",
      " want\n",
      " know\n",
      " come\n",
      " make\n",
      " girl\n",
      " let\n",
      " say\n",
      " need\n",
      "Cluster 1:\n",
      " time\n",
      " say\n",
      " want\n",
      " ill\n",
      " way\n",
      " feel\n",
      " make\n",
      " come\n",
      " know\n",
      " day\n",
      "Cluster 2:\n",
      " come\n",
      " love\n",
      " know\n",
      " night\n",
      " dream\n",
      " heart\n",
      " make\n",
      " say\n",
      " day\n",
      " man\n",
      "Cluster 3:\n",
      " know\n",
      " want\n",
      " love\n",
      " say\n",
      " feel\n",
      " tell\n",
      " let\n",
      " time\n",
      " heart\n",
      " make\n",
      "Cluster 4:\n",
      " let\n",
      " girl\n",
      " nigga\n",
      " wanna\n",
      " fuck\n",
      " shit\n",
      " bitch\n",
      " niggas\n",
      " know\n",
      " want\n",
      "Cluster 5:\n",
      " love\n",
      " heart\n",
      " know\n",
      " ill\n",
      " make\n",
      " say\n",
      " feel\n",
      " time\n",
      " fall\n",
      " way\n"
     ]
    }
   ],
   "source": [
    "from sklearn.cluster import KMeans\n",
    "from sklearn.metrics import adjusted_rand_score\n",
    "import pickle\n",
    "\n",
    "model = KMeans(n_clusters=6, init='k-means++', max_iter=100, n_init=1)\n",
    "model.fit(data)\n",
    "\n",
    "print(\"Top terms per cluster:\")\n",
    "order_centroids = model.cluster_centers_.argsort()[:, ::-1]\n",
    "terms = vectorizer.get_feature_names()\n",
    "for i in range(true_k):\n",
    "    print(\"Cluster %d:\" % i),\n",
    "    for ind in order_centroids[i, :10]:\n",
    "        print(' %s' % terms[ind]),\n",
    "    print\n",
    "\n",
    "#save model\n",
    "with open('../dataset/kmeans_model', 'wb') as fp:\n",
    "    pickle.dump(model, fp)"
   ]
  },
  {
   "cell_type": "code",
   "execution_count": 40,
   "metadata": {},
   "outputs": [
    {
     "data": {
      "text/plain": [
       "KMeans(algorithm='auto', copy_x=True, init='k-means++', max_iter=100,\n",
       "    n_clusters=6, n_init=10, n_jobs=1, precompute_distances='auto',\n",
       "    random_state=None, tol=0.0001, verbose=0)"
      ]
     },
     "execution_count": 40,
     "metadata": {},
     "output_type": "execute_result"
    }
   ],
   "source": [
    "from sklearn.decomposition import TruncatedSVD\n",
    "import sklearn.pipeline as pipe\n",
    "\n",
    "reduced_data = TruncatedSVD(n_components=2).fit_transform(data)\n",
    "\n",
    "model = KMeans(n_clusters=6, init='k-means++', max_iter=100)\n",
    "model.fit(svd)"
   ]
  },
  {
   "cell_type": "code",
   "execution_count": null,
   "metadata": {},
   "outputs": [
    {
     "name": "stderr",
     "output_type": "stream",
     "text": [
      "C:\\Users\\juanp\\Anaconda3\\envs\\mlnd\\lib\\site-packages\\matplotlib\\cbook\\deprecation.py:107: MatplotlibDeprecationWarning: Passing one of 'on', 'true', 'off', 'false' as a boolean is deprecated; use an actual boolean (True/False) instead.\n",
      "  warnings.warn(message, mplDeprecation, stacklevel=1)\n"
     ]
    }
   ],
   "source": [
    "#some ipython magic to show the matplotlib plots inline\n",
    "%matplotlib inline \n",
    "\n",
    "import pandas as pd\n",
    "\n",
    "xs, ys = reduced_data[:, 0], reduced_data[:, 1]\n",
    "#set up colors per clusters using a dict\n",
    "cluster_colors = {0: '#f44641', 1: '#d95f02', 2: '#7570b3', 3: '#e7298a', 4: '#66a61e', 5: '#4286f4'}\n",
    "\n",
    "#set up cluster names using a dict\n",
    "cluster_names = {0: 'baby, love, want, know', \n",
    "                 1: 'time, say, want, ill, way', \n",
    "                 2: 'come, love, know, night, dream', \n",
    "                 3: 'more love', \n",
    "                 4: 'not so much love', \n",
    "                 5: 'what is love?'}\n",
    "\n",
    "\n",
    "#create data frame that has the result of the MDS plus the cluster numbers and titles\n",
    "df = pd.DataFrame(dict(x=xs, y=ys, label=model.labels_.tolist())) \n",
    "\n",
    "#group by cluster\n",
    "groups = df.groupby('label')\n",
    "\n",
    "\n",
    "# set up plot\n",
    "fig, ax = plt.subplots(figsize=(17, 9)) # set size\n",
    "ax.margins(0.05) # Optional, just adds 5% padding to the autoscaling\n",
    "\n",
    "#iterate through groups to layer the plot\n",
    "#note that I use the cluster_name and cluster_color dicts with the 'name' lookup to return the appropriate color/label\n",
    "for name, group in groups:\n",
    "    ax.plot(group.x, group.y, marker='o', linestyle='', ms=12, \n",
    "            label=cluster_names[name], color=cluster_colors[name], \n",
    "            mec='none')\n",
    "    ax.set_aspect('auto')\n",
    "    ax.tick_params(\\\n",
    "        axis= 'x',          # changes apply to the x-axis\n",
    "        which='both',      # both major and minor ticks are affected\n",
    "        bottom='off',      # ticks along the bottom edge are off\n",
    "        top='off',         # ticks along the top edge are off\n",
    "        labelbottom='off')\n",
    "    ax.tick_params(\\\n",
    "        axis= 'y',         # changes apply to the y-axis\n",
    "        which='both',      # both major and minor ticks are affected\n",
    "        left='off',      # ticks along the bottom edge are off\n",
    "        top='off',         # ticks along the top edge are off\n",
    "        labelleft='off')\n",
    "    \n",
    "ax.legend(numpoints=1)  #show legend with only 1 point    \n",
    "\n",
    "# Plot the centroids as a white X\n",
    "centroids = model.cluster_centers_\n",
    "plt.scatter(centroids[:, 0], centroids[:, 1],\n",
    "            marker='x', s=169, linewidths=3,\n",
    "            color='w', zorder=10)\n",
    "    \n",
    "plt.show() #show the plot"
   ]
  }
 ],
 "metadata": {
  "kernelspec": {
   "display_name": "Python 3",
   "language": "python",
   "name": "python3"
  },
  "language_info": {
   "codemirror_mode": {
    "name": "ipython",
    "version": 3
   },
   "file_extension": ".py",
   "mimetype": "text/x-python",
   "name": "python",
   "nbconvert_exporter": "python",
   "pygments_lexer": "ipython3",
   "version": "3.6.6"
  }
 },
 "nbformat": 4,
 "nbformat_minor": 2
}
